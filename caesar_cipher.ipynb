{
 "cells": [
  {
   "cell_type": "markdown",
   "id": "171a3f27",
   "metadata": {},
   "source": [
    "# Caesar Cipher: Find Shift Algorithm"
   ]
  },
  {
   "cell_type": "markdown",
   "id": "4417899e",
   "metadata": {},
   "source": [
    "1. Initializing the expected frequencies of each letter as a percentage in a zero-indexed array."
   ]
  },
  {
   "cell_type": "code",
   "execution_count": 25,
   "id": "d766c0be",
   "metadata": {},
   "outputs": [
    {
     "data": {
      "image/png": "[encoded data removed]",
      "text/plain": [
       "<Figure size 640x480 with 1 Axes>"
      ]
     },
     "metadata": {},
     "output_type": "display_data"
    }
   ],
   "source": [
    "import numpy as np\n",
    "import matplotlib.pyplot as plt\n",
    "import csv\n",
    "\n",
    "\n",
    "letters = ['a', 'b', 'c', 'd', 'e', 'f', 'g', 'h', 'i', 'j', 'k', 'l', \n",
    "           'm', 'n', 'o', 'p', 'q', 'r', 's', 't', 'u', 'v', 'w', 'x', 'y', 'z']\n",
    "# in percentage\n",
    "letter_frequency = np.array([8.2, 1.5, 2.8, 4.3, 12.7, 2.2, 2.0, 6.1,\n",
    "                   7.0, 0.15, 0.77, 4, 2.4, 6.7, 7.5, 1.9, .095,\n",
    "                   6, 6.3, 9.1, 2.8, 0.98, 2.4, 0.15, 2.0, .074])\n",
    "\n",
    "freq_chart = plt.bar(x = letters, height=letter_frequency)"
   ]
  },
  {
   "cell_type": "markdown",
   "id": "f3771949",
   "metadata": {},
   "source": [
    "2. Count frequencies of each letter in the user-provided string input (countLetters), and write to a csv file (writeLetters_to_file), to be used for frequency analysis in R."
   ]
  },
  {
   "cell_type": "code",
   "execution_count": 26,
   "id": "8585b90c",
   "metadata": {},
   "outputs": [],
   "source": [
    "def countLetters(phrase):\n",
    "    total_counts = np.zeros(26)\n",
    "    for i in range(len(letters)):\n",
    "        letter = letters[i]\n",
    "        total_counts[i] = phrase.count(letter)\n",
    "    return total_counts\n",
    "\n",
    "def writeLetters_to_file(counts):\n",
    "    row_list = []\n",
    "    row_list.append([\"Counts\"])\n",
    "    for i in range(0,26):\n",
    "        row_list.append([str(counts[i])])\n",
    "    with open('lettercounts.csv', 'w', newline='') as file:\n",
    "        writer = csv.writer(file)\n",
    "        writer.writerows(row_list)"
   ]
  },
  {
   "cell_type": "code",
   "execution_count": 27,
   "id": "90d38e00",
   "metadata": {},
   "outputs": [],
   "source": [
    "def shiftLetters(shift, phrase):\n",
    "    lower_phrase = phrase.lower()\n",
    "    letters = \"abcdefghijklmnopqrstuvwxyz\"\n",
    "    new_phrase = \"\"\n",
    "    size = len(phrase)\n",
    "    for i in range(size):\n",
    "        letter = lower_phrase[i]\n",
    "        if (letters.find(letter) == -1):\n",
    "            new_phrase += letter\n",
    "        else:\n",
    "            index = letters.find(letter)\n",
    "            new_letter = (index + shift)%26\n",
    "            if (phrase[i].isupper()):\n",
    "                new_phrase += letters[new_letter].upper()\n",
    "            else:\n",
    "                new_phrase += letters[new_letter]\n",
    "    return new_phrase"
   ]
  },
  {
   "cell_type": "code",
   "execution_count": 28,
   "id": "39a8089c",
   "metadata": {},
   "outputs": [],
   "source": [
    "input_string = \"Mx aew xli lyrxiv'w jmvwx xmqi syxwmhi Qsrxere. Li asoi, wxvmgoir wxmpp amxl xli lsyvw-sph zmwmsr sj ewgirhmrk xlvsykl vswi-pmx gyqypyw, sj lsywiw erh fevrw pmoi wtigow hiit mr xli wrsaih-mr zeppicw, epp xli wgvsppmrk gsyrxvc fipsa pssomrk Higiqfiv—fvsar erh fpego lmppw wxvieoih amxl wrsa, jpewliw sj mgih-sziv peoiw, xli psrk fvemhw sj e vmziv kpieqmrk ex xli fsxxsq sj e gercsr. Efszi xli amrk xli woc leh hiitirih xs e fpyi ws tyvi li oria mx asyph fvmrk xievw xs lmw iciw mj li pssoih psrk irsykl. Rsa mx aew hevo. Xli emvtperi hiwgirhih sziv Glmgeks, mxw kepebc sj ipigxvmg pmklxw, xli zewx rimklfsvlsshw gsqmrk gpieviv ew xli tperi kpmhih xsaevh xli emvtsvx—wxviixpmklxw, liehpmklxw, wxegow sj fymphmrkw, mgi vmrow, e xvygo xyvrmrk ex e wxstpmklx, wgvetw sj wrsa exst e aevilsywi erh amromrk erxirrei sr jeveaec lmppw, jmreppc xli psrk gsrzivkmrk teveppipw sj fpyi vyraec pmklxw, erh xlic aivi hsar.\"\n",
    "counts = np.array(countLetters(input_string))"
   ]
  },
  {
   "cell_type": "markdown",
   "id": "0eca0781",
   "metadata": {},
   "source": [
    "3. Algorithm to generate the next best guess for a shift value: Although the first guess is usually correct, there is always a chance that the correct shift could be 1 out of the 25 remaining shift values possible. This function will provide the shift value needed to generate the 'lettercounts.csv' file, to be used as a database in R. To generate more guesses, rerun the last block of code and DO NOT rerun the block immediately under this (where ranking is defined)."
   ]
  },
  {
   "cell_type": "code",
   "execution_count": 29,
   "id": "0945db1a",
   "metadata": {},
   "outputs": [],
   "source": [
    "ranking = ['e', 't', 'a', 'o', 'i', 'n', 's', 'h', 'r', 'd', 'l', 'c', 'u', 'm' 'w', 'f', 'g', 'y', 'p', 'b', 'v', 'k', 'j', 'x', 'q', 'z']"
   ]
  },
  {
   "cell_type": "code",
   "execution_count": 30,
   "id": "1585dd9f",
   "metadata": {},
   "outputs": [
    {
     "name": "stdout",
     "output_type": "stream",
     "text": [
      "It was the hunter's first time outside Montana. He woke, stricken still with the hours-old vision of ascending through rose-lit cumulus, of houses and barns like specks deep in the snowed-in valleys, all the scrolling country below looking December—brown and black hills streaked with snow, flashes of iced-over lakes, the long braids of a river gleaming at the bottom of a canyon. Above the wing the sky had deepened to a blue so pure he knew it would bring tears to his eyes if he looked long enough. Now it was dark. The airplane descended over Chicago, its galaxy of electric lights, the vast neighborhoods coming clearer as the plane glided toward the airport—streetlights, headlights, stacks of buildings, ice rinks, a truck turning at a stoplight, scraps of snow atop a warehouse and winking antennae on faraway hills, finally the long converging parallels of blue runway lights, and they were down.\n",
      "[55. 13. 21. 28. 81. 14. 27. 39. 50.  0. 16. 46.  6. 52. 57. 11.  0. 40.\n",
      " 53. 54. 19.  8. 21.  1. 10.  0.]\n"
     ]
    }
   ],
   "source": [
    "def bestShiftGuess(counts):\n",
    "    if (np.size(ranking) == 0):\n",
    "        return \"No more guesses left.\"\n",
    "    max_index = np.argmax(counts)\n",
    "    curr_letter = letters.index(ranking[0])\n",
    "    shift = curr_letter - max_index\n",
    "    ranking.remove(ranking[0])\n",
    "    return shift\n",
    "\n",
    "first_guess_shift = bestShiftGuess(counts)\n",
    "first_guess = shiftLetters(first_guess_shift, input_string)\n",
    "print(first_guess)\n",
    "first_guess_counts = countLetters(first_guess)\n",
    "writeLetters_to_file(first_guess_counts)"
   ]
  }
 ],
 "metadata": {
  "kernelspec": {
   "display_name": "Python 3 (ipykernel)",
   "language": "python",
   "name": "python3"
  },
  "language_info": {
   "codemirror_mode": {
    "name": "ipython",
    "version": 3
   },
   "file_extension": ".py",
   "mimetype": "text/x-python",
   "name": "python",
   "nbconvert_exporter": "python",
   "pygments_lexer": "ipython3",
   "version": "3.10.9"
  }
 },
 "nbformat": 4,
 "nbformat_minor": 5
}
